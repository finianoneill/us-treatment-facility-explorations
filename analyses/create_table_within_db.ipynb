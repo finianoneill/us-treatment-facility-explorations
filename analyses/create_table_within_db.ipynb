{
 "cells": [
  {
   "cell_type": "markdown",
   "metadata": {},
   "source": [
    "## Dependencies and Setup"
   ]
  },
  {
   "cell_type": "code",
   "execution_count": 1,
   "metadata": {},
   "outputs": [],
   "source": [
    "import json\n",
    "import sqlite3"
   ]
  },
  {
   "cell_type": "markdown",
   "metadata": {},
   "source": [
    "## Data Connection"
   ]
  },
  {
   "cell_type": "code",
   "execution_count": 2,
   "metadata": {},
   "outputs": [],
   "source": [
    "# create first database connection\n",
    "tf_db_1 = sqlite3.connect(\"treatment_facilities.sqlite\", isolation_level=None)"
   ]
  },
  {
   "cell_type": "code",
   "execution_count": 3,
   "metadata": {},
   "outputs": [],
   "source": [
    "# create second database connection\n",
    "tf_db_2 = sqlite3.connect(\"census_data.sqlite\", isolation_level=None)"
   ]
  },
  {
   "cell_type": "markdown",
   "metadata": {},
   "source": [
    "## Queries and Analysis"
   ]
  },
  {
   "cell_type": "code",
   "execution_count": 5,
   "metadata": {},
   "outputs": [],
   "source": [
    "# pull out all data from second db\n",
    "# create query to create initial table\n",
    "tf_cursor_2 = tf_db_2.cursor()\n",
    "tf_select_statement = \"select * from census_data;\"\n",
    "db_2_data = tf_cursor_2.execute(tf_select_statement)"
   ]
  },
  {
   "cell_type": "code",
   "execution_count": 7,
   "metadata": {},
   "outputs": [],
   "source": [
    "# create second table within the first database\n",
    "census_data_columns = [\"id integer PRIMARY KEY\", \"City\",\"Median_Age\",\n",
    "                       \"Average_Income\",\"Per_Capita_Income\",\n",
    "                       \"Number_of_facilities\",\"Total_Population\",\n",
    "                       \"Poverty_Count\",\"Location\"]"
   ]
  },
  {
   "cell_type": "code",
   "execution_count": 8,
   "metadata": {},
   "outputs": [
    {
     "data": {
      "text/plain": [
       "'id integer PRIMARY KEY,City,Median_Age,Average_Income,Per_Capita_Income,Number_of_facilities,Total_Population,Poverty_Count,Location'"
      ]
     },
     "execution_count": 8,
     "metadata": {},
     "output_type": "execute_result"
    }
   ],
   "source": [
    "# create column name string to be used in later query\n",
    "census_data_column_name_string = ','.join(census_data_columns)\n",
    "census_data_column_name_string"
   ]
  },
  {
   "cell_type": "code",
   "execution_count": 9,
   "metadata": {},
   "outputs": [
    {
     "data": {
      "text/plain": [
       "<sqlite3.Cursor at 0x10b28ad50>"
      ]
     },
     "execution_count": 9,
     "metadata": {},
     "output_type": "execute_result"
    }
   ],
   "source": [
    "# create query to create census_data table\n",
    "tf_cursor_1 = tf_db_1.cursor()\n",
    "cd_create_statement = \"create table census_data (%s);\" % (census_data_column_name_string)\n",
    "tf_cursor_1.execute(cd_create_statement)"
   ]
  },
  {
   "cell_type": "code",
   "execution_count": 36,
   "metadata": {},
   "outputs": [],
   "source": [
    "tf_cursor_2 = tf_db_2.cursor()\n",
    "tf_select_statement = \"select * from census_data;\"\n",
    "db_2_data = tf_cursor_2.execute(tf_select_statement)"
   ]
  },
  {
   "cell_type": "code",
   "execution_count": 37,
   "metadata": {},
   "outputs": [],
   "source": [
    "# insert data from second database into this newly created table\n",
    "counter = 0\n",
    "for row in db_2_data:\n",
    "    tf_current_values = []\n",
    "    tf_current_values.append(\"\\\"\" + str(row[0]) + \"\\\"\")\n",
    "    tf_current_values.append(\"\\\"\" + str(row[1]) + \"\\\"\")\n",
    "    tf_current_values.append(\"\\\"\" + str(row[2]) + \"\\\"\")\n",
    "    tf_current_values.append(\"\\\"\" + str(row[3]) + \"\\\"\")\n",
    "    tf_current_values.append(\"\\\"\" + str(row[4]) + \"\\\"\")\n",
    "    tf_current_values.append(\"\\\"\" + str(row[5]) + \"\\\"\")\n",
    "    tf_current_values.append(\"\\\"\" + str(row[6]) + \"\\\"\")\n",
    "    tf_current_values.append(\"\\\"\" + str(row[7]) + \"\\\"\")\n",
    "    tf_current_values.append(\"\\\"\" + str(row[8]) + \"\\\"\")\n",
    "    tf_current_values_string = \",\".join(tf_current_values)\n",
    "    tf_current_execute_statement = (\"insert into census_data values (%s);\"\n",
    "                                % (tf_current_values_string))\n",
    "    tf_cursor_1.execute(tf_current_execute_statement)"
   ]
  },
  {
   "cell_type": "code",
   "execution_count": null,
   "metadata": {},
   "outputs": [],
   "source": []
  }
 ],
 "metadata": {
  "kernelspec": {
   "display_name": "Python [conda env:PythonData]",
   "language": "python",
   "name": "conda-env-PythonData-py"
  },
  "language_info": {
   "codemirror_mode": {
    "name": "ipython",
    "version": 3
   },
   "file_extension": ".py",
   "mimetype": "text/x-python",
   "name": "python",
   "nbconvert_exporter": "python",
   "pygments_lexer": "ipython3",
   "version": "3.6.5"
  }
 },
 "nbformat": 4,
 "nbformat_minor": 2
}
