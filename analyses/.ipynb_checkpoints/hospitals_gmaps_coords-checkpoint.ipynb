{
 "cells": [
  {
   "cell_type": "markdown",
   "metadata": {},
   "source": [
    "# US Hospital Coordinate Retrieval\n",
    "\n",
    "#### This notebook will generate latitude and longitude coordinates for all of the hospitals in the US. The notebook will then output the results as a json file.\n",
    "\n",
    "Technologies:\n",
    "* Google API\n",
    "* Pandas"
   ]
  },
  {
   "cell_type": "code",
   "execution_count": 1,
   "metadata": {},
   "outputs": [],
   "source": [
    "# import dependencies\n",
    "import pandas as pd\n",
    "import os\n",
    "import requests\n",
    "import googlemaps\n",
    "from datetime import datetime\n",
    "from api_keys import google_api_key\n",
    "import gmaps\n",
    "\n",
    "from tqdm import tqdm\n",
    "\n",
    "# establish connection with Google Maps API\n",
    "goog_maps = googlemaps.Client(key=google_api_key)"
   ]
  },
  {
   "cell_type": "code",
   "execution_count": 2,
   "metadata": {},
   "outputs": [],
   "source": [
    "# load in csv results into pandas dataframe\n",
    "hospital_list = pd.read_csv(\"list_of_hospitals_bay_area.csv\")"
   ]
  },
  {
   "cell_type": "code",
   "execution_count": 3,
   "metadata": {},
   "outputs": [],
   "source": [
    "# get the length of the dataframe to be used in the progress bar\n",
    "hospital_list_length = len(hospital_list)"
   ]
  },
  {
   "cell_type": "code",
   "execution_count": 4,
   "metadata": {},
   "outputs": [
    {
     "name": "stderr",
     "output_type": "stream",
     "text": [
      "  0%|          | 0/45937 [00:00<?, ?hospitals/s]/Users/finianoneill/anaconda3/envs/PythonData/lib/python3.6/site-packages/ipykernel/__main__.py:14: SettingWithCopyWarning: \n",
      "A value is trying to be set on a copy of a slice from a DataFrame\n",
      "\n",
      "See the caveats in the documentation: http://pandas.pydata.org/pandas-docs/stable/indexing.html#indexing-view-versus-copy\n",
      "/Users/finianoneill/anaconda3/envs/PythonData/lib/python3.6/site-packages/ipykernel/__main__.py:15: SettingWithCopyWarning: \n",
      "A value is trying to be set on a copy of a slice from a DataFrame\n",
      "\n",
      "See the caveats in the documentation: http://pandas.pydata.org/pandas-docs/stable/indexing.html#indexing-view-versus-copy\n",
      "  0%|          | 92/45937 [01:12<10:56:07,  1.16hospitals/s]"
     ]
    },
    {
     "ename": "KeyboardInterrupt",
     "evalue": "",
     "output_type": "error",
     "traceback": [
      "\u001b[0;31m---------------------------------------------------------------------------\u001b[0m",
      "\u001b[0;31mKeyboardInterrupt\u001b[0m                         Traceback (most recent call last)",
      "\u001b[0;32m<ipython-input-4-438af4f4f6f9>\u001b[0m in \u001b[0;36m<module>\u001b[0;34m()\u001b[0m\n\u001b[1;32m     13\u001b[0m     \u001b[0;31m# insert latitude and longitude values into the row\u001b[0m\u001b[0;34m\u001b[0m\u001b[0;34m\u001b[0m\u001b[0m\n\u001b[1;32m     14\u001b[0m     \u001b[0mhospital_list\u001b[0m\u001b[0;34m[\u001b[0m\u001b[0;34m\"lat\"\u001b[0m\u001b[0;34m]\u001b[0m\u001b[0;34m[\u001b[0m\u001b[0mindex\u001b[0m\u001b[0;34m]\u001b[0m \u001b[0;34m=\u001b[0m \u001b[0mcurrent_lat\u001b[0m\u001b[0;34m\u001b[0m\u001b[0m\n\u001b[0;32m---> 15\u001b[0;31m     \u001b[0mhospital_list\u001b[0m\u001b[0;34m[\u001b[0m\u001b[0;34m\"lng\"\u001b[0m\u001b[0;34m]\u001b[0m\u001b[0;34m[\u001b[0m\u001b[0mindex\u001b[0m\u001b[0;34m]\u001b[0m \u001b[0;34m=\u001b[0m \u001b[0mcurrent_lng\u001b[0m\u001b[0;34m\u001b[0m\u001b[0m\n\u001b[0m",
      "\u001b[0;32m~/anaconda3/envs/PythonData/lib/python3.6/site-packages/pandas/core/series.py\u001b[0m in \u001b[0;36m__setitem__\u001b[0;34m(self, key, value)\u001b[0m\n\u001b[1;32m    935\u001b[0m \u001b[0;34m\u001b[0m\u001b[0m\n\u001b[1;32m    936\u001b[0m         \u001b[0;31m# do the setitem\u001b[0m\u001b[0;34m\u001b[0m\u001b[0;34m\u001b[0m\u001b[0m\n\u001b[0;32m--> 937\u001b[0;31m         \u001b[0mcacher_needs_updating\u001b[0m \u001b[0;34m=\u001b[0m \u001b[0mself\u001b[0m\u001b[0;34m.\u001b[0m\u001b[0m_check_is_chained_assignment_possible\u001b[0m\u001b[0;34m(\u001b[0m\u001b[0;34m)\u001b[0m\u001b[0;34m\u001b[0m\u001b[0m\n\u001b[0m\u001b[1;32m    938\u001b[0m         \u001b[0msetitem\u001b[0m\u001b[0;34m(\u001b[0m\u001b[0mkey\u001b[0m\u001b[0;34m,\u001b[0m \u001b[0mvalue\u001b[0m\u001b[0;34m)\u001b[0m\u001b[0;34m\u001b[0m\u001b[0m\n\u001b[1;32m    939\u001b[0m         \u001b[0;32mif\u001b[0m \u001b[0mcacher_needs_updating\u001b[0m\u001b[0;34m:\u001b[0m\u001b[0;34m\u001b[0m\u001b[0m\n",
      "\u001b[0;32m~/anaconda3/envs/PythonData/lib/python3.6/site-packages/pandas/core/generic.py\u001b[0m in \u001b[0;36m_check_is_chained_assignment_possible\u001b[0;34m(self)\u001b[0m\n\u001b[1;32m   2622\u001b[0m             \u001b[0;32mif\u001b[0m \u001b[0mref\u001b[0m \u001b[0;32mis\u001b[0m \u001b[0;32mnot\u001b[0m \u001b[0;32mNone\u001b[0m \u001b[0;32mand\u001b[0m \u001b[0mref\u001b[0m\u001b[0;34m.\u001b[0m\u001b[0m_is_mixed_type\u001b[0m\u001b[0;34m:\u001b[0m\u001b[0;34m\u001b[0m\u001b[0m\n\u001b[1;32m   2623\u001b[0m                 self._check_setitem_copy(stacklevel=4, t='referant',\n\u001b[0;32m-> 2624\u001b[0;31m                                          force=True)\n\u001b[0m\u001b[1;32m   2625\u001b[0m             \u001b[0;32mreturn\u001b[0m \u001b[0;32mTrue\u001b[0m\u001b[0;34m\u001b[0m\u001b[0m\n\u001b[1;32m   2626\u001b[0m         \u001b[0;32melif\u001b[0m \u001b[0mself\u001b[0m\u001b[0;34m.\u001b[0m\u001b[0m_is_copy\u001b[0m\u001b[0;34m:\u001b[0m\u001b[0;34m\u001b[0m\u001b[0m\n",
      "\u001b[0;32m~/anaconda3/envs/PythonData/lib/python3.6/site-packages/pandas/core/generic.py\u001b[0m in \u001b[0;36m_check_setitem_copy\u001b[0;34m(self, stacklevel, t, force)\u001b[0m\n\u001b[1;32m   2668\u001b[0m             \u001b[0;31m# the copy weakref\u001b[0m\u001b[0;34m\u001b[0m\u001b[0;34m\u001b[0m\u001b[0m\n\u001b[1;32m   2669\u001b[0m             \u001b[0;32mtry\u001b[0m\u001b[0;34m:\u001b[0m\u001b[0;34m\u001b[0m\u001b[0m\n\u001b[0;32m-> 2670\u001b[0;31m                 \u001b[0mgc\u001b[0m\u001b[0;34m.\u001b[0m\u001b[0mcollect\u001b[0m\u001b[0;34m(\u001b[0m\u001b[0;36m2\u001b[0m\u001b[0;34m)\u001b[0m\u001b[0;34m\u001b[0m\u001b[0m\n\u001b[0m\u001b[1;32m   2671\u001b[0m                 \u001b[0;32mif\u001b[0m \u001b[0;32mnot\u001b[0m \u001b[0mgc\u001b[0m\u001b[0;34m.\u001b[0m\u001b[0mget_referents\u001b[0m\u001b[0;34m(\u001b[0m\u001b[0mself\u001b[0m\u001b[0;34m.\u001b[0m\u001b[0m_is_copy\u001b[0m\u001b[0;34m(\u001b[0m\u001b[0;34m)\u001b[0m\u001b[0;34m)\u001b[0m\u001b[0;34m:\u001b[0m\u001b[0;34m\u001b[0m\u001b[0m\n\u001b[1;32m   2672\u001b[0m                     \u001b[0mself\u001b[0m\u001b[0;34m.\u001b[0m\u001b[0m_is_copy\u001b[0m \u001b[0;34m=\u001b[0m \u001b[0;32mNone\u001b[0m\u001b[0;34m\u001b[0m\u001b[0m\n",
      "\u001b[0;31mKeyboardInterrupt\u001b[0m: "
     ]
    }
   ],
   "source": [
    "# loop through rows in pandas dataframe and store latitude and longitude coordinates\n",
    "for index, row in tqdm(hospital_list.iterrows(), total=hospital_list_length, unit=\"hospitals\"):\n",
    "    #determine current geocode result based on address of the row\n",
    "    current_address = str(row[\"ST_ADR\"]) + \",\" + str(row[\"CITY_NAME\"]) + \\\n",
    "    \",\" + str(row[\"STATE_CD\"]) + \",\" + str(row[\"ZIP_CD\"])\n",
    "    current_geocode_result = goog_maps.geocode(current_address)\n",
    "    try:\n",
    "        current_lat = current_geocode_result[0]['geometry']['location']['lat']\n",
    "        current_lng = current_geocode_result[0]['geometry']['location']['lng']\n",
    "    except:\n",
    "        current_lat = \"\"\n",
    "        current_lng = \"\"\n",
    "        \n",
    "    # insert latitude and longitude values into the row\n",
    "    hospital_list[\"lat\"][index] = current_lat\n",
    "    hospital_list[\"lng\"][index] = current_lng"
   ]
  },
  {
   "cell_type": "code",
   "execution_count": null,
   "metadata": {},
   "outputs": [],
   "source": [
    "# extract the latitude and longitude coordinates for each physician into a final data frame\n",
    "# the previous loops do not need to be executed if latitude and longitude coordinates\n",
    "# are already stored in the mongo db\n",
    "df_columns = [\"npi\", \"physician_first_name\", \"physician_last_name\",\n",
    "             \"zip_code\", \"opioid_claim_count\", \"total_claim_count\",\n",
    "             \"specialty_description\", \"lat\", \"lng\"]\n",
    "physician_coordinate_df = pd.DataFrame(columns=df_columns)\n",
    "\n",
    "row_counter = 0\n",
    "for document in collection.find():\n",
    "    if document[\"lng\"] != \"\":\n",
    "        current_row_list = [document[\"npi\"], document[\"physician_first_name\"],\n",
    "                           document[\"physician_last_name\"], document[\"zip_code\"],\n",
    "                           document[\"opioid_claim_count\"], document[\"total_claim_count\"],\n",
    "                           document[\"specialty_description\"], document[\"lat\"],\n",
    "                           document[\"lng\"]]\n",
    "        physician_coordinate_df.loc[row_counter] = current_row_list\n",
    "        row_counter += 1\n",
    "#        physician_coordinate_df[\"npi\"] = document[\"npi\"]\n",
    "#        physician_coordinate_df[\"physician_first_name\"] = document[\"physician_first_name\"]\n",
    "#        physician_coordinate_df[\"physician_last_name\"] = document[\"physician_last_name\"]\n",
    "#        physician_coordinate_df[\"zip_code\"] = document[\"zip_code\"]\n",
    "#        physician_coordinate_df[\"opioid_claim_count\"] = document[\"opioid_claim_count\"]\n",
    "#        physician_coordinate_df[\"total_claim_count\"] = document[\"total_claim_count\"]\n",
    "#        physician_coordinate_df[\"specialty_description\"] = document[\"specialty_description\"]\n",
    "#        physician_coordinate_df[\"lat\"] = document[\"lat\"]\n",
    "#        physician_coordinate_df[\"lng\"] = document[\"lng\"]"
   ]
  },
  {
   "cell_type": "code",
   "execution_count": null,
   "metadata": {},
   "outputs": [],
   "source": [
    "# store the locations in a dataframe slice\n",
    "locations = physician_coordinate_df[[\"lat\", \"lng\"]].astype(float)\n",
    "# store patient counts\n",
    "opioid_counts = physician_coordinate_df[\"opioid_claim_count\"].astype(float)"
   ]
  },
  {
   "cell_type": "code",
   "execution_count": null,
   "metadata": {},
   "outputs": [],
   "source": [
    "# configure gmaps with API key\n",
    "gmaps.configure(api_key=google_api_key)\n",
    "# create heatmap of GCA patient counts\n",
    "heat_map_fig = gmaps.figure()\n",
    "\n",
    "heat_layer = gmaps.heatmap_layer(locations, weights=opioid_counts,\n",
    "                                dissipating=False, max_intensity = 5000,\n",
    "                                point_radius = 1)\n",
    "\n",
    "heat_map_fig.add_layer(heat_layer)\n",
    "\n",
    "heat_map_fig"
   ]
  }
 ],
 "metadata": {
  "kernelspec": {
   "display_name": "Python [default]",
   "language": "python",
   "name": "python3"
  },
  "language_info": {
   "codemirror_mode": {
    "name": "ipython",
    "version": 3
   },
   "file_extension": ".py",
   "mimetype": "text/x-python",
   "name": "python",
   "nbconvert_exporter": "python",
   "pygments_lexer": "ipython3",
   "version": "3.6.5"
  }
 },
 "nbformat": 4,
 "nbformat_minor": 2
}
