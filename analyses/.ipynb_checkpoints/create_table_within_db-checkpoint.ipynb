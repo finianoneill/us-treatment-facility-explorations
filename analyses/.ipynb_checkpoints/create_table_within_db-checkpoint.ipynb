{
 "cells": [
  {
   "cell_type": "markdown",
   "metadata": {},
   "source": [
    "## Dependencies and Setup"
   ]
  },
  {
   "cell_type": "code",
   "execution_count": 1,
   "metadata": {},
   "outputs": [],
   "source": [
    "import json\n",
    "import sqlite3"
   ]
  },
  {
   "cell_type": "markdown",
   "metadata": {},
   "source": [
    "## Data Connection"
   ]
  },
  {
   "cell_type": "code",
   "execution_count": 2,
   "metadata": {},
   "outputs": [],
   "source": [
    "# create first database connection\n",
    "tf_db_1 = sqlite3.connect(\"treatment_facilities.sqlite\", isolation_level=None)"
   ]
  },
  {
   "cell_type": "code",
   "execution_count": 3,
   "metadata": {},
   "outputs": [],
   "source": [
    "# create second database connection\n",
    "tf_db_2 = sqlite3.connect(\"census_data.sqlite\", isolation_level=None)"
   ]
  },
  {
   "cell_type": "markdown",
   "metadata": {},
   "source": [
    "## Queries and Analysis"
   ]
  },
  {
   "cell_type": "code",
   "execution_count": 5,
   "metadata": {},
   "outputs": [],
   "source": [
    "# pull out all data from second db\n",
    "# create query to create initial table\n",
    "tf_cursor_2 = tf_db_2.cursor()\n",
    "tf_select_statement = \"select * from census_data;\"\n",
    "db_2_data = tf_cursor_2.execute(tf_select_statement)"
   ]
  },
  {
   "cell_type": "code",
   "execution_count": 7,
   "metadata": {},
   "outputs": [],
   "source": [
    "# create second table within the first database\n",
    "census_data_columns = [\"id integer PRIMARY KEY\", \"City\",\"Median_Age\",\n",
    "                       \"Average_Income\",\"Per_Capita_Income\",\n",
    "                       \"Number_of_facilities\",\"Total_Population\",\n",
    "                       \"Poverty_Count\",\"Location\"]"
   ]
  },
  {
   "cell_type": "code",
   "execution_count": 8,
   "metadata": {},
   "outputs": [
    {
     "data": {
      "text/plain": [
       "'id integer PRIMARY KEY,City,Median_Age,Average_Income,Per_Capita_Income,Number_of_facilities,Total_Population,Poverty_Count,Location'"
      ]
     },
     "execution_count": 8,
     "metadata": {},
     "output_type": "execute_result"
    }
   ],
   "source": [
    "# create column name string to be used in later query\n",
    "census_data_column_name_string = ','.join(census_data_columns)\n",
    "census_data_column_name_string"
   ]
  },
  {
   "cell_type": "code",
   "execution_count": 9,
   "metadata": {},
   "outputs": [
    {
     "data": {
      "text/plain": [
       "<sqlite3.Cursor at 0x10b28ad50>"
      ]
     },
     "execution_count": 9,
     "metadata": {},
     "output_type": "execute_result"
    }
   ],
   "source": [
    "# create query to create census_data table\n",
    "tf_cursor_1 = tf_db_1.cursor()\n",
    "cd_create_statement = \"create table census_data (%s);\" % (census_data_column_name_string)\n",
    "tf_cursor_1.execute(cd_create_statement)"
   ]
  },
  {
   "cell_type": "code",
   "execution_count": 26,
   "metadata": {},
   "outputs": [],
   "source": [
    "tf_cursor_2 = tf_db_2.cursor()\n",
    "tf_select_statement = \"select * from census_data;\"\n",
    "db_2_data = tf_cursor_2.execute(tf_select_statement)"
   ]
  },
  {
   "cell_type": "code",
   "execution_count": 27,
   "metadata": {},
   "outputs": [
    {
     "name": "stdout",
     "output_type": "stream",
     "text": [
      "(0, 'ALAMEDA', '39.4', '69076', '38185', '1', '61639', '7125', '[37.77, -122.24]')\n",
      "0\n",
      "(1, 'ANTIOCH', '33.75', '70940', '25201.5', '7', '104351', '15344', '[38, -121.8]')\n",
      "1\n",
      "(2, 'BERKELEY', '33.9', '58603.83333', '37430.16667', '8', '122448', '10876', '[37.87, -122.27]')\n",
      "2\n",
      "(3, 'BURLINGAME', '41.9', '109775', '74474', '13', '41480', '2485', '[37.57, -122.34]')\n",
      "3\n",
      "(4, 'CAMPBELL', '37.3', '87204', '44023', '4', '45187', '3342', '[37.28, -121.95]')\n",
      "4\n",
      "(5, 'CONCORD', '31.5', '47313', '21096', '12', '37489', '7461', '[37.97, -122.03]')\n",
      "5\n",
      "(6, 'DALY CITY', '39.6', '76978', '30658', '3', '61591', '4898', '[37.68, -122.47]')\n",
      "6\n",
      "(7, 'DUBLIN', '36.1', '114812', '42534', '1', '47384', '1634', '[37.7, -121.93]')\n",
      "7\n",
      "(8, 'EMERYVILLE', '36.4', '52787', '36714', '2', '26288', '4307', '[37.83, -122.28]')\n",
      "8\n",
      "(9, 'FAIRFIELD', '36.3', '74044.5', '30579', '4', '105627', '14061', '[38.24, -122.04]')\n",
      "9\n",
      "(10, 'FREMONT', '35.95', '86473', '35638', '33', '231705', '93050', '[37.54, -121.98]')\n",
      "10\n",
      "(11, 'GILROY', '33.4', '81037', '29889', '3', '58246', '8371', '[37, -121.56]')\n",
      "11\n",
      "(12, 'HAYWARD', '35', '62197.33333', '25071', '9', '167936', '24707', '[37.66, -122.08]')\n",
      "12\n",
      "(13, 'HERCULES', '37.4', '97269', '36802', '1', '24454', '1434', '[38.01, -122.28]')\n",
      "13\n",
      "(14, 'LARKSPUR', '46.5', '97723', '78588', '2', '6887', '212', '[37.93, -122.53]')\n",
      "14\n",
      "(15, 'LOS ALTOS', '46.1', '167384', '85227', '2', '22349', '489', '[37.38, -122.11]')\n",
      "15\n",
      "(16, 'LOS GATOS', '45.6', '136850.5', '75070', '14', '39455', '1559', '[37.23, -121.96]')\n",
      "16\n",
      "(17, 'MARTINEZ', '42.5', '75672', '36343', '5', '48018', '4149', '[38.01, -122.13]')\n",
      "17\n",
      "(18, 'MENLO PARK', '39.2', '115444', '69074', '3', '40372', '2612', '[37.45, -122.18]')\n",
      "18\n",
      "(19, 'MILLBRAE', '45.4', '88451', '42042', '1', '21867', '1234', '[37.59, -122.38]')\n",
      "19\n",
      "(20, 'MOUNTAIN VIEW', '35.95', '95750', '56976', '35', '81071', '4255', '[37.38, -122.08]')\n",
      "20\n",
      "(21, 'NAPA', '40.6', '72286', '35746', '6', '66824', '7000', '[38.29, -122.28]')\n",
      "21\n",
      "(22, 'NEWARK', '37.3', '85847', '31056', '1', '43139', '3310', '[37.53, -122.04]')\n",
      "22\n",
      "(23, 'NOVATO', '44.4', '83026', '44454', '6', '18107', '1009', '[38.1, -122.56]')\n",
      "23\n",
      "(24, 'OAKLAND', '37.56666667', '54454.44444', '36954.77778', '46', '467121', '93424', '[37.8, -122.27]')\n",
      "24\n",
      "(25, 'PALO ALTO', '39.95', '113222', '89137.5', '18', '20217', '1215', '[37.44, -122.14]')\n",
      "25\n",
      "(26, 'PETALUMA', '40.7', '80645', '33411', '1', '36785', '3037', '[38.23, -122.63]')\n",
      "26\n",
      "(27, 'PIEDMONT', '38.8', '72848', '57078', '1', '29978', '2369', '[37.82, -122.23]')\n",
      "27\n",
      "(28, 'PINOLE', '42.8', '76960', '34647', '1', '18612', '1738', '[38, -122.29]')\n",
      "28\n",
      "(29, 'PLEASANT HILL', '42.3', '77485', '43827', '1', '33923', '3051', '[37.94, -122.06]')\n",
      "29\n",
      "(30, 'PLEASANTON', '38.5', '119849', '49641', '1', '30949', '1559', '[37.66, -121.87]')\n",
      "30\n",
      "(31, 'REDWOOD CITY', '37.3', '85903.66667', '43988.33333', '22', '95815', '10514', '[37.48, -122.23]')\n",
      "31\n",
      "(32, 'RICHMOND', '32.85', '44645.5', '21476.5', '5', '99820', '15728', '[37.93, -122.34]')\n",
      "32\n",
      "(33, 'SAINT HELENA', '47.3', '83551', '53798', '3', '9538', '556', '[38.5, -122.47]')\n",
      "33\n",
      "(34, 'SAN FRANCISCO', '39.81578947', '79024.05263', '62400.26316', '168', '615187', '81117', '[37.77, -122.41]')\n",
      "34\n",
      "(35, 'SAN JOSE', '36.16666667', '80936', '40913.33333', '30', '1170550', '136270', '[37.33, -121.88]')\n",
      "35\n",
      "(36, 'SAN LEANDRO', '34', '51518', '23200', '5', '90225', '6553', '[37.72, -122.15]')\n",
      "36\n",
      "(37, 'SAN MATEO', '39.63333333', '89240', '47090.33333', '10', '99700', '6960', '[37.56, -122.32]')\n",
      "37\n",
      "(38, 'SAN PABLO', '33.7', '52976', '22112', '1', '59720', '10159', '[37.96, -122.34]')\n",
      "38\n",
      "(39, 'SAN RAFAEL', '46.4', '88646', '48387', '11', '30411', '1931', '[37.97, -122.53]')\n",
      "39\n",
      "(40, 'SAN RAMON', '39.6', '119623', '49034', '10', '34937', '961', '[37.77, -121.97]')\n",
      "40\n",
      "(41, 'SANTA CLARA', '35.15', '84067', '39004.5', '8', '127209', '8237', '[37.35, -121.95]')\n",
      "41\n",
      "(42, 'SANTA ROSA', '39.2', '62688.25', '32271.5', '22', '142716', '17342', '[38.44, -122.71]')\n",
      "42\n",
      "(43, 'SEBASTOPOL', '50.3', '68223', '40149', '1', '29381', '2675', '[38.4, -122.82]')\n",
      "43\n",
      "(44, 'SONOMA', '44.9', '58785', '40040', '5', '38800', '4702', '[38.29, -122.45]')\n",
      "44\n",
      "(45, 'SOUTH SAN FRANCISCO', '37.8', '77058', '31603', '2', '65200', '4563', '[37.65, -122.4]')\n",
      "45\n",
      "(46, 'UNION CITY', '36.5', '82083', '29685', '4', '70687', '5905', '[37.59, -122.04]')\n",
      "46\n",
      "(47, 'VACAVILLE', '38.2', '76517.5', '31948', '11', '100728', '8724', '[38.35, -121.98]')\n",
      "47\n",
      "(48, 'VALLEJO', '37.1', '48943.5', '21852.5', '8', '65627', '13994', '[38.1, -122.25]')\n",
      "48\n",
      "(49, 'WALNUT CREEK', '47.95', '85552.75', '51345', '24', '83497', '4501', '[37.91, -122.06]')\n",
      "49\n"
     ]
    }
   ],
   "source": [
    "# insert data from second database into this newly created table\n",
    "counter = 0\n",
    "for row in db_2_data:\n",
    "    tf_current_values = []\n",
    "    print(row)\n",
    "    for value in enumerate(row):\n",
    "        print(value)\n",
    "        tf_current_values.append(\"\\\"\" + str(value) + \"\\\"\")\n",
    "        tf_current_values_string = \",\".join(tf_current_values)\n",
    "        break\n",
    "        #tf_current_execute_statement = (\"insert into census_data values (%s);\"\n",
    "        #                            % (tf_current_values_string))\n",
    "        #tf_cursor_1.execute(tf_current_execute_statement)"
   ]
  },
  {
   "cell_type": "code",
   "execution_count": null,
   "metadata": {},
   "outputs": [],
   "source": []
  }
 ],
 "metadata": {
  "kernelspec": {
   "display_name": "Python [conda env:PythonData]",
   "language": "python",
   "name": "conda-env-PythonData-py"
  },
  "language_info": {
   "codemirror_mode": {
    "name": "ipython",
    "version": 3
   },
   "file_extension": ".py",
   "mimetype": "text/x-python",
   "name": "python",
   "nbconvert_exporter": "python",
   "pygments_lexer": "ipython3",
   "version": "3.6.5"
  }
 },
 "nbformat": 4,
 "nbformat_minor": 2
}
