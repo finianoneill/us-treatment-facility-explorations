{
 "cells": [
  {
   "cell_type": "markdown",
   "metadata": {},
   "source": [
    "### Dependencies and Setup"
   ]
  },
  {
   "cell_type": "code",
   "execution_count": 9,
   "metadata": {},
   "outputs": [],
   "source": [
    "import json\n",
    "import sqlite3"
   ]
  },
  {
   "cell_type": "markdown",
   "metadata": {},
   "source": [
    "### Data Load"
   ]
  },
  {
   "cell_type": "code",
   "execution_count": 10,
   "metadata": {},
   "outputs": [],
   "source": [
    "# load in the json file for the treatment facilities\n",
    "treatment_facility_json = json.load(open(\"Outputs/hospital_list_bay_area_reformat.js\"))"
   ]
  },
  {
   "cell_type": "markdown",
   "metadata": {},
   "source": [
    "### SQLite File Creation"
   ]
  },
  {
   "cell_type": "code",
   "execution_count": 11,
   "metadata": {},
   "outputs": [],
   "source": [
    "# create database connection\n",
    "tf_db = sqlite3.connect(\"treatment_facilities.sqlite\", isolation_level=None)"
   ]
  },
  {
   "cell_type": "code",
   "execution_count": 12,
   "metadata": {},
   "outputs": [],
   "source": [
    "# get column names to be used in database\n",
    "tf_columns = [\"id integer PRIMARY KEY\"]\n",
    "for key, value in treatment_facility_json[0].items():\n",
    "    tf_columns.append(key)"
   ]
  },
  {
   "cell_type": "code",
   "execution_count": 13,
   "metadata": {},
   "outputs": [
    {
     "data": {
      "text/plain": [
       "'id integer PRIMARY KEY,city,facilityName,providerNumber,stateCode,streetAddress,phoneNumber,zipCode,lat,lng'"
      ]
     },
     "execution_count": 13,
     "metadata": {},
     "output_type": "execute_result"
    }
   ],
   "source": [
    "# create column name string to be used in later query\n",
    "tf_column_name_string = ','.join(tf_columns)\n",
    "tf_column_name_string"
   ]
  },
  {
   "cell_type": "code",
   "execution_count": 14,
   "metadata": {},
   "outputs": [
    {
     "data": {
      "text/plain": [
       "<sqlite3.Cursor at 0x1121bff10>"
      ]
     },
     "execution_count": 14,
     "metadata": {},
     "output_type": "execute_result"
    }
   ],
   "source": [
    "# create query to create initial table\n",
    "tf_cursor = tf_db.cursor()\n",
    "tf_create_statement = \"create table treatment_facilities (%s);\" % (tf_column_name_string)\n",
    "tf_cursor.execute(tf_create_statement)"
   ]
  },
  {
   "cell_type": "code",
   "execution_count": 15,
   "metadata": {},
   "outputs": [],
   "source": [
    "# loop through the json and insert in values for each entry\n",
    "counter = 0\n",
    "for index in treatment_facility_json:\n",
    "    tf_current_values = [str(counter)]\n",
    "    for key, value in index.items():\n",
    "        tf_current_values.append(\"\\\"\" + str(value) + \"\\\"\")\n",
    "    tf_current_values_string = \",\".join(tf_current_values)\n",
    "    tf_current_execute_statement = (\"insert into treatment_facilities values (%s);\"\n",
    "                                    % (tf_current_values_string))\n",
    "    tf_cursor.execute(tf_current_execute_statement)\n",
    "    counter += 1"
   ]
  },
  {
   "cell_type": "code",
   "execution_count": 16,
   "metadata": {},
   "outputs": [],
   "source": [
    "tf_cursor.close()"
   ]
  },
  {
   "cell_type": "code",
   "execution_count": null,
   "metadata": {},
   "outputs": [],
   "source": []
  }
 ],
 "metadata": {
  "kernelspec": {
   "display_name": "Python [conda env:PythonData]",
   "language": "python",
   "name": "conda-env-PythonData-py"
  },
  "language_info": {
   "codemirror_mode": {
    "name": "ipython",
    "version": 3
   },
   "file_extension": ".py",
   "mimetype": "text/x-python",
   "name": "python",
   "nbconvert_exporter": "python",
   "pygments_lexer": "ipython3",
   "version": "3.6.5"
  }
 },
 "nbformat": 4,
 "nbformat_minor": 2
}
