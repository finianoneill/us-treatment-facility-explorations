{
"cells": [
{
"cell_type": "markdown",
"metadata": {},
"source": [
"# US Hospital Coordinate Retrieval\n",
"\n",
"#### This notebook will generate latitude and longitude coordinates for all of the hospitals in the US. The notebook will then output the results as a json file.\n",
"\n",
"Technologies:\n",
"* Google API\n",
"* Pandas"
]
},
{
"cell_type": "code",
"execution_count": 1,
"metadata": {},
"outputs": [],
"source": [
"# import dependencies\n",
"import pandas as pd\n",
"import os\n",
"import requests\n",
"import googlemaps\n",
"from datetime import datetime\n",
"from api_keys import google_api_key\n",
"import gmaps\n",
"\n",
"from tqdm import tqdm\n",
"\n",
"# establish connection with Google Maps API\n",
"goog_maps = googlemaps.Client(key=google_api_key)"
]
},
{
"cell_type": "code",
"execution_count": 2,
"metadata": {},
"outputs": [],
"source": [
"# load in csv results into pandas dataframe\n",
"hospital_list = pd.read_csv(\"list_of_hospitals_bay_area.csv\")"
]
},
{
"cell_type": "code",
"execution_count": 3,
"metadata": {},
"outputs": [],
"source": [
"# get the length of the dataframe to be used in the progress bar\n",
"hospital_list_length = len(hospital_list)"
]
},
{
"cell_type": "code",
"execution_count": 4,
"metadata": {},
"outputs": [
{
"name": "stderr",
"output_type": "stream",
"text": [
"  0%|          | 0/7081 [00:00<?, ?hospitals/s]/Users/finianoneill/anaconda3/envs/PythonData/lib/python3.6/site-packages/ipykernel/__main__.py:14: SettingWithCopyWarning: \n",
"A value is trying to be set on a copy of a slice from a DataFrame\n",
"\n",
"See the caveats in the documentation: http://pandas.pydata.org/pandas-docs/stable/indexing.html#indexing-view-versus-copy\n",
"/Users/finianoneill/anaconda3/envs/PythonData/lib/python3.6/site-packages/ipykernel/__main__.py:15: SettingWithCopyWarning: \n",
"A value is trying to be set on a copy of a slice from a DataFrame\n",
"\n",
"See the caveats in the documentation: http://pandas.pydata.org/pandas-docs/stable/indexing.html#indexing-view-versus-copy\n",
" 12%|█▏        | 877/7081 [10:32<1:05:58,  1.57hospitals/s]/Users/finianoneill/anaconda3/envs/PythonData/lib/python3.6/site-packages/pandas/core/indexing.py:189: SettingWithCopyWarning: \n",
"A value is trying to be set on a copy of a slice from a DataFrame\n",
"\n",
"See the caveats in the documentation: http://pandas.pydata.org/pandas-docs/stable/indexing.html#indexing-view-versus-copy\n",
"  self._setitem_with_indexer(indexer, value)\n",
"100%|██████████| 7081/7081 [1:23:39<00:00,  1.30hospitals/s]\n"
]
}
],
"source": [
"# loop through rows in pandas dataframe and store latitude and longitude coordinates\n",
"for index, row in tqdm(hospital_list.iterrows(), total=hospital_list_length, unit=\"hospitals\"):\n",
"    #determine current geocode result based on address of the row\n",
"    current_address = str(row[\"ST_ADR\"]) + \",\" + str(row[\"CITY_NAME\"]) + \\\n",
"    \",\" + str(row[\"STATE_CD\"]) + \",\" + str(row[\"ZIP_CD\"])\n",
"    current_geocode_result = goog_maps.geocode(current_address)\n",
"    try:\n",
"        current_lat = current_geocode_result[0]['geometry']['location']['lat']\n",
"        current_lng = current_geocode_result[0]['geometry']['location']['lng']\n",
"    except:\n",
"        current_lat = \"\"\n",
"        current_lng = \"\"\n",
"        \n",
"    # insert latitude and longitude values into the row\n",
"    hospital_list[\"lat\"][index] = current_lat\n",
"    hospital_list[\"lng\"][index] = current_lng"
]
},
{
"cell_type": "code",
"execution_count": 5,
"metadata": {},
"outputs": [],
"source": [
"# save the results as a JSON\n",
"hospital_list.to_json(\"Outputs/hospital_list_bay_area.js\")"
]
},
{
"cell_type": "code",
"execution_count": 6,
"metadata": {},
"outputs": [
{
"data": {
"text/html": [
"<div>\n",
"<style scoped>\n",
"    .dataframe tbody tr th:only-of-type {\n",
"        vertical-align: middle;\n",
"    }\n",
"\n",
"    .dataframe tbody tr th {\n",
"        vertical-align: top;\n",
"    }\n",
"\n",
"    .dataframe thead th {\n",
"        text-align: right;\n",
"    }\n",
"</style>\n",
"<table border=\"1\" class=\"dataframe\">\n",
"  <thead>\n",
"    <tr style=\"text-align: right;\">\n",
"      <th></th>\n",
"      <th>CITY_NAME</th>\n",
"      <th>FAC_NAME</th>\n",
"      <th>PRVDR_NUM</th>\n",
"      <th>STATE_CD</th>\n",
"      <th>ST_ADR</th>\n",
"      <th>PHNE_NUM</th>\n",
"      <th>ZIP_CD</th>\n",
"      <th>lat</th>\n",
"      <th>lng</th>\n",
"    </tr>\n",
"  </thead>\n",
"  <tbody>\n",
"    <tr>\n",
"      <th>0</th>\n",
"      <td>REDWOOD CITY</td>\n",
"      <td>KAISER FOUNDATION HOSPITAL REDWOOD CITY LABORA...</td>\n",
"      <td>05D0062466</td>\n",
"      <td>CA</td>\n",
"      <td>1100 VETERANS BLVD</td>\n",
"      <td>6.502992e+09</td>\n",
"      <td>94063</td>\n",
"      <td>37.4893</td>\n",
"      <td>-122.224</td>\n",
"    </tr>\n",
"    <tr>\n",
"      <th>1</th>\n",
"      <td>SAN FRANCISCO</td>\n",
"      <td>CALIFORNIA PACIFIC MEDICAL CENTER LABORATORY</td>\n",
"      <td>05D0062620</td>\n",
"      <td>CA</td>\n",
"      <td>3700 CALIFORNIA STREET, 4TH FLOOR</td>\n",
"      <td>4.157506e+09</td>\n",
"      <td>94118</td>\n",
"      <td>37.7866</td>\n",
"      <td>-122.456</td>\n",
"    </tr>\n",
"    <tr>\n",
"      <th>2</th>\n",
"      <td>SAN FRANCISCO</td>\n",
"      <td>CHINESE HOSPITAL LABORATORY</td>\n",
"      <td>05D0062669</td>\n",
"      <td>CA</td>\n",
"      <td>845 JACKSON ST</td>\n",
"      <td>4.159822e+09</td>\n",
"      <td>94133</td>\n",
"      <td>37.7955</td>\n",
"      <td>-122.409</td>\n",
"    </tr>\n",
"    <tr>\n",
"      <th>3</th>\n",
"      <td>PALO ALTO</td>\n",
"      <td>PALO ALTO MEDICAL FOUNDATION CLINICAL LAB</td>\n",
"      <td>05D0062682</td>\n",
"      <td>CA</td>\n",
"      <td>795 EL CAMINO REAL LEE BLDG</td>\n",
"      <td>6.508536e+09</td>\n",
"      <td>94301</td>\n",
"      <td>37.4397</td>\n",
"      <td>-122.161</td>\n",
"    </tr>\n",
"    <tr>\n",
"      <th>4</th>\n",
"      <td>PALO ALTO</td>\n",
"      <td>LUCILE PACKARD CHILDREN'S HOSPITAL AT</td>\n",
"      <td>05D0062689</td>\n",
"      <td>CA</td>\n",
"      <td>725 WELCH RD</td>\n",
"      <td>6.507240e+09</td>\n",
"      <td>94304</td>\n",
"      <td>37.4355</td>\n",
"      <td>-122.175</td>\n",
"    </tr>\n",
"  </tbody>\n",
"</table>\n",
"</div>"
],
"text/plain": [
"       CITY_NAME                                           FAC_NAME  \\\n",
"0   REDWOOD CITY  KAISER FOUNDATION HOSPITAL REDWOOD CITY LABORA...   \n",
"1  SAN FRANCISCO       CALIFORNIA PACIFIC MEDICAL CENTER LABORATORY   \n",
"2  SAN FRANCISCO                        CHINESE HOSPITAL LABORATORY   \n",
"3      PALO ALTO          PALO ALTO MEDICAL FOUNDATION CLINICAL LAB   \n",
"4      PALO ALTO              LUCILE PACKARD CHILDREN'S HOSPITAL AT   \n",
"\n",
"    PRVDR_NUM STATE_CD                             ST_ADR      PHNE_NUM  \\\n",
"0  05D0062466       CA                 1100 VETERANS BLVD  6.502992e+09   \n",
"1  05D0062620       CA  3700 CALIFORNIA STREET, 4TH FLOOR  4.157506e+09   \n",
"2  05D0062669       CA                     845 JACKSON ST  4.159822e+09   \n",
"3  05D0062682       CA        795 EL CAMINO REAL LEE BLDG  6.508536e+09   \n",
"4  05D0062689       CA                       725 WELCH RD  6.507240e+09   \n",
"\n",
"   ZIP_CD      lat      lng  \n",
"0   94063  37.4893 -122.224  \n",
"1   94118  37.7866 -122.456  \n",
"2   94133  37.7955 -122.409  \n",
"3   94301  37.4397 -122.161  \n",
"4   94304  37.4355 -122.175  "
]
},
"execution_count": 6,
"metadata": {},
"output_type": "execute_result"
}
],
"source": [
"hospital_list.head()"
]
},
{
"cell_type": "code",
"execution_count": null,
"metadata": {},
"outputs": [],
"source": []
}
],
"metadata": {
"kernelspec": {
"display_name": "Python [default]",
"language": "python",
"name": "python3"
},
"language_info": {
"codemirror_mode": {
"name": "ipython",
"version": 3
},
"file_extension": ".py",
"mimetype": "text/x-python",
"name": "python",
"nbconvert_exporter": "python",
"pygments_lexer": "ipython3",
"version": "3.6.5"
}
},
"nbformat": 4,
"nbformat_minor": 2
}